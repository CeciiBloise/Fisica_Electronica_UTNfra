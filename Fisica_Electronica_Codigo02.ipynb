{
  "nbformat": 4,
  "nbformat_minor": 0,
  "metadata": {
    "colab": {
      "name": "Fisica_Electronica_Codigo02",
      "provenance": [],
      "include_colab_link": true
    },
    "kernelspec": {
      "name": "python3",
      "display_name": "Python 3"
    },
    "language_info": {
      "name": "python"
    }
  },
  "cells": [
    {
      "cell_type": "markdown",
      "metadata": {
        "id": "view-in-github",
        "colab_type": "text"
      },
      "source": [
        "<a href=\"https://colab.research.google.com/github/CeciiBloise/Fisica_Electronica_UTNfra/blob/main/Fisica_Electronica_Codigo02.ipynb\" target=\"_parent\"><img src=\"https://colab.research.google.com/assets/colab-badge.svg\" alt=\"Open In Colab\"/></a>"
      ]
    },
    {
      "cell_type": "code",
      "execution_count": 1,
      "metadata": {
        "id": "1vqMmqYyyiDP"
      },
      "outputs": [],
      "source": [
        "# Importo los modulos necesarios\n",
        "import matplotlib.pyplot as plt\n",
        "import numpy as np"
      ]
    },
    {
      "cell_type": "code",
      "source": [
        "# Pido por teclado la posicion inicial\n",
        "posicion_inicial = float(input('Ingresá la posicion inicial:'))"
      ],
      "metadata": {
        "colab": {
          "base_uri": "https://localhost:8080/"
        },
        "id": "TmG0qLeLyvWE",
        "outputId": "132c5118-f88f-4640-b9b7-8a3059e7365d"
      },
      "execution_count": 3,
      "outputs": [
        {
          "name": "stdout",
          "output_type": "stream",
          "text": [
            "Ingresá la posicion inicial:10\n"
          ]
        }
      ]
    },
    {
      "cell_type": "code",
      "source": [
        "# Pido por teclado la velocidad inicial\n",
        "velocidad_inicial = float(input('Ingrese la velocidad inicial:'))"
      ],
      "metadata": {
        "colab": {
          "base_uri": "https://localhost:8080/"
        },
        "id": "Jav5IoOyy7TS",
        "outputId": "289d994a-fb20-445b-d37a-1e4ab4bafd67"
      },
      "execution_count": 4,
      "outputs": [
        {
          "name": "stdout",
          "output_type": "stream",
          "text": [
            "Ingrese la velocidad inicial:10\n"
          ]
        }
      ]
    },
    {
      "cell_type": "code",
      "source": [
        "# Creo la lista de datos temporales (20 puntos en un periodo de 5 seg)\n",
        "# Realizo comprension de lista\n",
        "tiempo = [float(t) for t in range(100) if t % 5 == 0] \n",
        "tiempo"
      ],
      "metadata": {
        "colab": {
          "base_uri": "https://localhost:8080/"
        },
        "id": "_EgAPool4ll7",
        "outputId": "0d718dd9-f590-4617-f072-4156dc613036"
      },
      "execution_count": 6,
      "outputs": [
        {
          "output_type": "execute_result",
          "data": {
            "text/plain": [
              "[0.0,\n",
              " 5.0,\n",
              " 10.0,\n",
              " 15.0,\n",
              " 20.0,\n",
              " 25.0,\n",
              " 30.0,\n",
              " 35.0,\n",
              " 40.0,\n",
              " 45.0,\n",
              " 50.0,\n",
              " 55.0,\n",
              " 60.0,\n",
              " 65.0,\n",
              " 70.0,\n",
              " 75.0,\n",
              " 80.0,\n",
              " 85.0,\n",
              " 90.0,\n",
              " 95.0]"
            ]
          },
          "metadata": {},
          "execution_count": 6
        }
      ]
    },
    {
      "cell_type": "code",
      "source": [
        "# Creo lista de la posicion del proyectil en funcion del tiempo\n",
        "# Realizo un for\n",
        "posicion = []\n",
        "\n",
        "for n in range(20):\n",
        "  pos = posicion_inicial + velocidad_inicial*tiempo[n] - 0.5*9.8*(tiempo[n]*tiempo[n])\n",
        "  posicion.append(pos)\n",
        "\n",
        "posicion"
      ],
      "metadata": {
        "colab": {
          "base_uri": "https://localhost:8080/"
        },
        "id": "EkGkbjqi4opL",
        "outputId": "bb491aa7-a97c-43ac-ce07-11b851897251"
      },
      "execution_count": 7,
      "outputs": [
        {
          "output_type": "execute_result",
          "data": {
            "text/plain": [
              "[10.0,\n",
              " -62.500000000000014,\n",
              " -380.00000000000006,\n",
              " -942.5,\n",
              " -1750.0000000000002,\n",
              " -2802.5,\n",
              " -4100.0,\n",
              " -5642.5,\n",
              " -7430.000000000001,\n",
              " -9462.5,\n",
              " -11740.0,\n",
              " -14262.500000000002,\n",
              " -17030.0,\n",
              " -20042.5,\n",
              " -23300.0,\n",
              " -26802.500000000004,\n",
              " -30550.000000000004,\n",
              " -34542.5,\n",
              " -38780.0,\n",
              " -43262.5]"
            ]
          },
          "metadata": {},
          "execution_count": 7
        }
      ]
    },
    {
      "cell_type": "code",
      "source": [
        "# Imprimo la tabla por pantalla\n",
        "headers = ('tiempo', 'posicion')\n",
        "print('')\n",
        "for titulo in headers:\n",
        "   print(f'{titulo:>10s}', end= ' ')\n",
        "\n",
        "print('')\n",
        "linea = '-'*10\n",
        "print(f'{linea:>10s} {linea:>10s}', end='')\n",
        "print('')\n",
        "\n",
        "for t, y in zip(tiempo, posicion):\n",
        "    print(f'{t:>10.2f} {y:>10.3f}')\n",
        "    "
      ],
      "metadata": {
        "colab": {
          "base_uri": "https://localhost:8080/"
        },
        "id": "TzsaaC8D-A9d",
        "outputId": "5d8cff5f-1af4-4ac4-a583-91102cfa635e"
      },
      "execution_count": 8,
      "outputs": [
        {
          "output_type": "stream",
          "name": "stdout",
          "text": [
            "\n",
            "    tiempo   posicion \n",
            "---------- ----------\n",
            "      0.00     10.000\n",
            "      5.00    -62.500\n",
            "     10.00   -380.000\n",
            "     15.00   -942.500\n",
            "     20.00  -1750.000\n",
            "     25.00  -2802.500\n",
            "     30.00  -4100.000\n",
            "     35.00  -5642.500\n",
            "     40.00  -7430.000\n",
            "     45.00  -9462.500\n",
            "     50.00 -11740.000\n",
            "     55.00 -14262.500\n",
            "     60.00 -17030.000\n",
            "     65.00 -20042.500\n",
            "     70.00 -23300.000\n",
            "     75.00 -26802.500\n",
            "     80.00 -30550.000\n",
            "     85.00 -34542.500\n",
            "     90.00 -38780.000\n",
            "     95.00 -43262.500\n"
          ]
        }
      ]
    },
    {
      "cell_type": "code",
      "source": [
        "# Grafico la la trayectoria en funcion de la tabla\n",
        "# Falta utilizar np.linspace \n",
        "plt.scatter(tiempo, posicion, color = 'green')\n",
        "plt.plot(tiempo, posicion, \"g--\")\n",
        "plt.title('Tiro Vertical')\n",
        "plt.xlabel('Tiempo')\n",
        "plt.ylabel(\"Posicion\")\n",
        "plt.show()"
      ],
      "metadata": {
        "colab": {
          "base_uri": "https://localhost:8080/",
          "height": 295
        },
        "id": "aYaTsj9iDH0h",
        "outputId": "e1ce4e1a-7f53-4291-8d84-0bd7d2d8562f"
      },
      "execution_count": null,
      "outputs": [
        {
          "output_type": "display_data",
          "data": {
            "text/plain": [
              "<Figure size 432x288 with 1 Axes>"
            ],
            "image/png": "[encoded data removed]"
          },
          "metadata": {
            "needs_background": "light"
          }
        }
      ]
    },
    {
      "cell_type": "code",
      "source": [
        "n=np.linspace(0, 5, 100)\n",
        "n"
      ],
      "metadata": {
        "colab": {
          "base_uri": "https://localhost:8080/"
        },
        "id": "5k2nE5neI4AJ",
        "outputId": "ddf111ec-e0f3-4145-f256-c90f3a86afa8"
      },
      "execution_count": 19,
      "outputs": [
        {
          "output_type": "execute_result",
          "data": {
            "text/plain": [
              "array([0.        , 0.05050505, 0.1010101 , 0.15151515, 0.2020202 ,\n",
              "       0.25252525, 0.3030303 , 0.35353535, 0.4040404 , 0.45454545,\n",
              "       0.50505051, 0.55555556, 0.60606061, 0.65656566, 0.70707071,\n",
              "       0.75757576, 0.80808081, 0.85858586, 0.90909091, 0.95959596,\n",
              "       1.01010101, 1.06060606, 1.11111111, 1.16161616, 1.21212121,\n",
              "       1.26262626, 1.31313131, 1.36363636, 1.41414141, 1.46464646,\n",
              "       1.51515152, 1.56565657, 1.61616162, 1.66666667, 1.71717172,\n",
              "       1.76767677, 1.81818182, 1.86868687, 1.91919192, 1.96969697,\n",
              "       2.02020202, 2.07070707, 2.12121212, 2.17171717, 2.22222222,\n",
              "       2.27272727, 2.32323232, 2.37373737, 2.42424242, 2.47474747,\n",
              "       2.52525253, 2.57575758, 2.62626263, 2.67676768, 2.72727273,\n",
              "       2.77777778, 2.82828283, 2.87878788, 2.92929293, 2.97979798,\n",
              "       3.03030303, 3.08080808, 3.13131313, 3.18181818, 3.23232323,\n",
              "       3.28282828, 3.33333333, 3.38383838, 3.43434343, 3.48484848,\n",
              "       3.53535354, 3.58585859, 3.63636364, 3.68686869, 3.73737374,\n",
              "       3.78787879, 3.83838384, 3.88888889, 3.93939394, 3.98989899,\n",
              "       4.04040404, 4.09090909, 4.14141414, 4.19191919, 4.24242424,\n",
              "       4.29292929, 4.34343434, 4.39393939, 4.44444444, 4.49494949,\n",
              "       4.54545455, 4.5959596 , 4.64646465, 4.6969697 , 4.74747475,\n",
              "       4.7979798 , 4.84848485, 4.8989899 , 4.94949495, 5.        ])"
            ]
          },
          "metadata": {},
          "execution_count": 19
        }
      ]
    }
  ]
}