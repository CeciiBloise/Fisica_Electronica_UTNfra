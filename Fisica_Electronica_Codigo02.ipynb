{
  "nbformat": 4,
  "nbformat_minor": 0,
  "metadata": {
    "colab": {
      "name": "Fisica_Electronica_Codigo02",
      "provenance": [],
      "include_colab_link": true
    },
    "kernelspec": {
      "name": "python3",
      "display_name": "Python 3"
    },
    "language_info": {
      "name": "python"
    }
  },
  "cells": [
    {
      "cell_type": "markdown",
      "metadata": {
        "id": "view-in-github",
        "colab_type": "text"
      },
      "source": [
        "<a href=\"https://colab.research.google.com/github/CeciiBloise/Fisica_Electronica_UTNfra/blob/main/Fisica_Electronica_Codigo02.ipynb\" target=\"_parent\"><img src=\"https://colab.research.google.com/assets/colab-badge.svg\" alt=\"Open In Colab\"/></a>"
      ]
    },
    {
      "cell_type": "markdown",
      "source": [
        "## Codigo 02\n",
        "\n",
        "### Bloise Maria Cecilia\n",
        "\n",
        "Para el modelo explicado en Física 1 conocido como \"tiro vertical\", un proyectil disparado verticalmente a determinada velocidad inicial vi tiene una posición y(t) = yi + vi * t - 0,5 * g * t^2, donde g es la gravedad terrestre para la cual consideramos un valor medio de g = 9,8 m/s^2. Escriba un programa que cree 2 listas como numpy arrays:\n",
        "\n",
        "- Una, conteniendo datos temporales (20 puntos en un período de 5 segundos). La creación de esta lista se hará a través del proceso conocido como \"comprensión de listas\" o \"list comprehension\".\n",
        "\n",
        "- Otra, conteniendo los correspondientes datos para la posición vertical del proyectil. Esta lista se creará usando el comando \"for\".\n",
        "\n",
        "El programa, debe preguntarle al usuario cuál es la altura inicial yi, así como también su velocidad inicial, vi. Debe imprimir una tabla bien formateada con la lista de valores temporales y espaciales, después de haberlos calculado, y debe hacer un gráfico de la posición respecto del tiempo (se graficarán los puntos y la trayectoria).\n",
        "\n",
        "Para la tabla, se utilizará \"print\" junto con 3 decimales de precisión flotante para el espacio y 2 decimales para el tiempo. \n",
        "\n",
        "Para la gráfica se utilizará matplotlib, indicando los puntos como círculos llenos y la trayectoria en líneas punteadas usando el comando \"np.linspace\" con la resolución que corresponda para los valores temporales. La gráfica deberá contener una grilla y bien marcados los ejes. Se deja un link donde se explica cómo hacer esto último y una imagen para tomar de referencia.\n",
        "\n",
        "Link (la grilla se agrega con \"plt.grid(True)\", donde \"plt\" es el objeto \"matplotlib\")."
      ],
      "metadata": {
        "id": "vMpmZqAfSvCE"
      }
    },
    {
      "cell_type": "code",
      "execution_count": null,
      "metadata": {
        "id": "1vqMmqYyyiDP"
      },
      "outputs": [],
      "source": [
        "# Importo los modulos necesarios\n",
        "import matplotlib.pyplot as plt\n",
        "import numpy as np"
      ]
    },
    {
      "cell_type": "code",
      "source": [
        "# Pido por teclado la posicion inicial\n",
        "posicion_inicial = float(input('Ingresá la posicion inicial:'))"
      ],
      "metadata": {
        "id": "TmG0qLeLyvWE",
        "colab": {
          "base_uri": "https://localhost:8080/"
        },
        "outputId": "00e82938-165b-4cc4-8707-fa9e965c6e97"
      },
      "execution_count": 23,
      "outputs": [
        {
          "name": "stdout",
          "output_type": "stream",
          "text": [
            "Ingresá la posicion inicial:10\n"
          ]
        }
      ]
    },
    {
      "cell_type": "code",
      "source": [
        "# Pido por teclado la velocidad inicial\n",
        "velocidad_inicial = float(input('Ingrese la velocidad inicial:'))"
      ],
      "metadata": {
        "id": "Jav5IoOyy7TS",
        "colab": {
          "base_uri": "https://localhost:8080/"
        },
        "outputId": "acc706d0-4834-4466-c5e8-2fac1a499bf5"
      },
      "execution_count": 24,
      "outputs": [
        {
          "name": "stdout",
          "output_type": "stream",
          "text": [
            "Ingrese la velocidad inicial:10\n"
          ]
        }
      ]
    },
    {
      "cell_type": "code",
      "source": [
        "# Creo la lista de datos temporales (20 puntos en un periodo de 5 seg)\n",
        "# Realizo comprension de lista\n",
        "tiempo = [float(t) for t in range(100) if t % 5 == 0] \n",
        "tiempo"
      ],
      "metadata": {
        "colab": {
          "base_uri": "https://localhost:8080/"
        },
        "id": "_EgAPool4ll7",
        "outputId": "238ebe4f-a501-406e-c35e-33cc3831bfa2"
      },
      "execution_count": null,
      "outputs": [
        {
          "output_type": "execute_result",
          "data": {
            "text/plain": [
              "[0.0,\n",
              " 5.0,\n",
              " 10.0,\n",
              " 15.0,\n",
              " 20.0,\n",
              " 25.0,\n",
              " 30.0,\n",
              " 35.0,\n",
              " 40.0,\n",
              " 45.0,\n",
              " 50.0,\n",
              " 55.0,\n",
              " 60.0,\n",
              " 65.0,\n",
              " 70.0,\n",
              " 75.0,\n",
              " 80.0,\n",
              " 85.0,\n",
              " 90.0,\n",
              " 95.0]"
            ]
          },
          "metadata": {},
          "execution_count": 5
        }
      ]
    },
    {
      "cell_type": "code",
      "source": [
        "# Creo lista de la posicion del proyectil en funcion del tiempo\n",
        "# Realizo un for\n",
        "posicion = []\n",
        "\n",
        "for n in range(20):\n",
        "  pos = posicion_inicial + velocidad_inicial*tiempo[n] - 0.5*9.8*(tiempo[n]*tiempo[n])\n",
        "  posicion.append(pos)\n",
        "\n",
        "posicion"
      ],
      "metadata": {
        "colab": {
          "base_uri": "https://localhost:8080/"
        },
        "id": "EkGkbjqi4opL",
        "outputId": "86f73681-86d1-4847-c244-fe3af64a4296"
      },
      "execution_count": null,
      "outputs": [
        {
          "output_type": "execute_result",
          "data": {
            "text/plain": [
              "[100.0,\n",
              " -12.500000000000014,\n",
              " -370.00000000000006,\n",
              " -972.5,\n",
              " -1820.0000000000002,\n",
              " -2912.5,\n",
              " -4250.0,\n",
              " -5832.5,\n",
              " -7660.000000000001,\n",
              " -9732.5,\n",
              " -12050.0,\n",
              " -14612.500000000002,\n",
              " -17420.0,\n",
              " -20472.5,\n",
              " -23770.0,\n",
              " -27312.500000000004,\n",
              " -31100.000000000004,\n",
              " -35132.5,\n",
              " -39410.0,\n",
              " -43932.5]"
            ]
          },
          "metadata": {},
          "execution_count": 6
        }
      ]
    },
    {
      "cell_type": "code",
      "source": [
        "# Imprimo la tabla por pantalla\n",
        "headers = ('tiempo', 'posicion')\n",
        "print('')\n",
        "for titulo in headers:\n",
        "   print(f'{titulo:>10s}', end= ' ')\n",
        "\n",
        "print('')\n",
        "linea = '-'*10\n",
        "print(f'{linea:>10s} {linea:>10s}', end='')\n",
        "print('')\n",
        "\n",
        "for t, y in zip(tiempo, posicion):\n",
        "    print(f'{t:>10.2f} {y:>10.3f}')\n",
        "    "
      ],
      "metadata": {
        "colab": {
          "base_uri": "https://localhost:8080/"
        },
        "id": "TzsaaC8D-A9d",
        "outputId": "d6cf43e8-ccf6-4803-a19b-27e7d0f6c50f"
      },
      "execution_count": null,
      "outputs": [
        {
          "output_type": "stream",
          "name": "stdout",
          "text": [
            "\n",
            "    tiempo   posicion \n",
            "---------- ----------\n",
            "      0.00    100.000\n",
            "      5.00    -12.500\n",
            "     10.00   -370.000\n",
            "     15.00   -972.500\n",
            "     20.00  -1820.000\n",
            "     25.00  -2912.500\n",
            "     30.00  -4250.000\n",
            "     35.00  -5832.500\n",
            "     40.00  -7660.000\n",
            "     45.00  -9732.500\n",
            "     50.00 -12050.000\n",
            "     55.00 -14612.500\n",
            "     60.00 -17420.000\n",
            "     65.00 -20472.500\n",
            "     70.00 -23770.000\n",
            "     75.00 -27312.500\n",
            "     80.00 -31100.000\n",
            "     85.00 -35132.500\n",
            "     90.00 -39410.000\n",
            "     95.00 -43932.500\n"
          ]
        }
      ]
    },
    {
      "cell_type": "code",
      "source": [
        "# Grafico la la trayectoria en funcion de la tabla\n",
        "# Utilizo np.linspace \n",
        "plt.scatter(tiempo, posicion, color = 'green')\n",
        "plt.plot(np.linspace(0,95,20), posicion, \"g--\")\n",
        "plt.title('Tiro Vertical')\n",
        "plt.xlabel('Tiempo')\n",
        "plt.ylabel(\"Posicion\")\n",
        "plt.xticks(np.arange(0, 95, 10))\n",
        "plt.grid(True)\n",
        "plt.show()"
      ],
      "metadata": {
        "colab": {
          "base_uri": "https://localhost:8080/",
          "height": 295
        },
        "id": "aYaTsj9iDH0h",
        "outputId": "1aae6881-4949-4b59-87fd-4d567cb98f54"
      },
      "execution_count": 26,
      "outputs": [
        {
          "output_type": "display_data",
          "data": {
            "text/plain": [
              "<Figure size 432x288 with 1 Axes>"
            ],
            "image/png": "[encoded data removed]"
          },
          "metadata": {
            "needs_background": "light"
          }
        }
      ]
    }
  ]
}